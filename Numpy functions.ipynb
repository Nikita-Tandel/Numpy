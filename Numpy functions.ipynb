{
 "cells": [
  {
   "cell_type": "code",
   "execution_count": 1,
   "metadata": {},
   "outputs": [
    {
     "data": {
      "text/plain": [
       "'1.18.4'"
      ]
     },
     "execution_count": 1,
     "metadata": {},
     "output_type": "execute_result"
    }
   ],
   "source": [
    "#importing the numpy library\n",
    "import numpy as np\n",
    "np.__version__"
   ]
  },
  {
   "cell_type": "code",
   "execution_count": 2,
   "metadata": {},
   "outputs": [
    {
     "name": "stdout",
     "output_type": "stream",
     "text": [
      "[1 2 3]\n",
      "<class 'numpy.ndarray'>\n"
     ]
    }
   ],
   "source": [
    "#creating 1D array\n",
    "a=np.array([1,2,3])\n",
    "print(a)\n",
    "print(type(a))"
   ]
  },
  {
   "cell_type": "code",
   "execution_count": 3,
   "metadata": {},
   "outputs": [
    {
     "name": "stdout",
     "output_type": "stream",
     "text": [
      "[[1 2 3]\n",
      " [4 5 6]]\n",
      "2\n",
      "(2, 3)\n"
     ]
    }
   ],
   "source": [
    "#creating 2D array\n",
    "a=np.array([(1,2,3),(4,5,6)])\n",
    "print(a)\n",
    "print(a.ndim)\n",
    "print(a.shape)"
   ]
  },
  {
   "cell_type": "code",
   "execution_count": 4,
   "metadata": {},
   "outputs": [
    {
     "name": "stdout",
     "output_type": "stream",
     "text": [
      "[(1, 2, 3, 4) (4, 5, 6)]\n",
      "1\n"
     ]
    }
   ],
   "source": [
    "#wrong array--unequal number of columns for each row\n",
    "a= np.array([(1,2,3,4),(4,5,6)])\n",
    "print(a)\n",
    "print(a.ndim)"
   ]
  },
  {
   "cell_type": "code",
   "execution_count": 5,
   "metadata": {},
   "outputs": [
    {
     "name": "stdout",
     "output_type": "stream",
     "text": [
      "[[1. 1. 1. 1.]\n",
      " [1. 1. 1. 1.]\n",
      " [1. 1. 1. 1.]]\n",
      "\n",
      "[[1. 1. 1. 1.]\n",
      " [1. 1. 1. 1.]\n",
      " [1. 1. 1. 1.]]\n"
     ]
    }
   ],
   "source": [
    "#ones() to create an array of all elements as 1\n",
    "a,b=np.ones((2,3,4))\n",
    "print(a)\n",
    "print()\n",
    "print(b)"
   ]
  },
  {
   "cell_type": "code",
   "execution_count": 6,
   "metadata": {},
   "outputs": [
    {
     "name": "stdout",
     "output_type": "stream",
     "text": [
      "[[0 0 0 0]\n",
      " [0 0 0 0]\n",
      " [0 0 0 0]]\n",
      "\n",
      "[[0 0 0 0]\n",
      " [0 0 0 0]\n",
      " [0 0 0 0]]\n"
     ]
    }
   ],
   "source": [
    "#zeros() to create an array of all elements as 0\n",
    "a,b=np.zeros((2,3,4),dtype=np.int)\n",
    "print(a)\n",
    "print()\n",
    "print(b)\n"
   ]
  },
  {
   "cell_type": "code",
   "execution_count": 7,
   "metadata": {},
   "outputs": [
    {
     "name": "stdout",
     "output_type": "stream",
     "text": [
      "[[5.6 5.6]\n",
      " [5.6 5.6]]\n",
      "[[5.6 5.6]\n",
      " [5.6 5.6]]\n"
     ]
    }
   ],
   "source": [
    "#full() to create an array of all elements with value specified\n",
    "c,d=np.full((2,2,2),5.6)\n",
    "print(c)\n",
    "#print()\n",
    "print(d)"
   ]
  },
  {
   "cell_type": "code",
   "execution_count": 8,
   "metadata": {},
   "outputs": [
    {
     "name": "stdout",
     "output_type": "stream",
     "text": [
      "[[1 0 0]\n",
      " [0 1 0]\n",
      " [0 0 1]]\n"
     ]
    }
   ],
   "source": [
    "#identity() to create an identity matrix\n",
    "a=np.identity(3,dtype=np.int)\n",
    "print(a)\n",
    "\n"
   ]
  },
  {
   "cell_type": "code",
   "execution_count": 9,
   "metadata": {},
   "outputs": [
    {
     "name": "stdout",
     "output_type": "stream",
     "text": [
      "[[0.02992158 0.31362989]\n",
      " [0.019723   0.02222008]\n",
      " [0.39620265 0.91736663]\n",
      " [0.78614697 0.48332943]\n",
      " [0.74744906 0.16448555]]\n",
      "[[90 66 70 80]\n",
      " [78 88 59 90]\n",
      " [73 68 66 58]]\n"
     ]
    },
    {
     "name": "stderr",
     "output_type": "stream",
     "text": [
      "C:\\Users\\Nikita Tandel\\Anaconda3\\lib\\site-packages\\ipykernel_launcher.py:5: DeprecationWarning: This function is deprecated. Please call randint(50, 100 + 1) instead\n",
      "  \"\"\"\n"
     ]
    }
   ],
   "source": [
    "#creating arrays from random numbers\n",
    "a=np.random.random((5,2))\n",
    "print(a)\n",
    "\n",
    "a=np.random.random_integers(50,100,(3,4))\n",
    "print(a)\n"
   ]
  },
  {
   "cell_type": "code",
   "execution_count": 10,
   "metadata": {},
   "outputs": [
    {
     "name": "stdout",
     "output_type": "stream",
     "text": [
      "[[1 2 3 4]\n",
      " [4 5 6 7]]\n",
      "8\n",
      "(2, 4)\n"
     ]
    }
   ],
   "source": [
    "#attributes to describe the array\n",
    "a=np.array([(1,2,3,4),(4,5,6,7)])\n",
    "print(a)\n",
    "print(a.size)\n",
    "print(a.shape)"
   ]
  },
  {
   "cell_type": "code",
   "execution_count": 11,
   "metadata": {},
   "outputs": [
    {
     "name": "stdout",
     "output_type": "stream",
     "text": [
      "[[1 2 3]\n",
      " [4 4 5]\n",
      " [6 7 1]\n",
      " [2 3 4]\n",
      " [4 5 6]\n",
      " [7 1 2]]\n",
      "[[1 2 3 4 4 5 6 7 1]\n",
      " [2 3 4 4 5 6 7 1 2]]\n"
     ]
    }
   ],
   "source": [
    "#resizing and reshaping the array\n",
    "a=np.resize(a,(6,3))\n",
    "print(a)\n",
    "a=np.reshape(a,(2,9))\n",
    "print(a)\n"
   ]
  },
  {
   "cell_type": "code",
   "execution_count": 12,
   "metadata": {},
   "outputs": [
    {
     "name": "stdout",
     "output_type": "stream",
     "text": [
      "[[ 1  2  3  4]\n",
      " [ 3  4  5  6]\n",
      " [ 8  9 10 11]]\n",
      "3\n",
      "[ 3  5 10]\n",
      "\n",
      "[[1 2 3 4]\n",
      " [3 4 5 6]]\n"
     ]
    }
   ],
   "source": [
    "#indexing and slicing\n",
    "a=np.array([(1,2,3,4),(3,4,5,6),(8,9,10,11)])\n",
    "\n",
    "print(a)\n",
    "\n",
    "print(a[0,2])\n",
    "print(a[:,2])\n",
    "print()\n",
    "print(a[0:2,])\n"
   ]
  },
  {
   "cell_type": "code",
   "execution_count": 13,
   "metadata": {},
   "outputs": [
    {
     "name": "stdout",
     "output_type": "stream",
     "text": [
      "[ 1.    3.25  5.5   7.75 10.  ]\n",
      "[ 0  5 10 15 20]\n"
     ]
    }
   ],
   "source": [
    "#creating arrays by populating elements on the basis of range\n",
    "a=np.linspace(1,10,5)\n",
    "print(a)\n",
    "\n",
    "a=np.arange(0,25,5)\n",
    "print(a)\n",
    "\n"
   ]
  },
  {
   "cell_type": "code",
   "execution_count": 14,
   "metadata": {},
   "outputs": [
    {
     "name": "stdout",
     "output_type": "stream",
     "text": [
      "3\n",
      "8\n",
      "13\n",
      "63\n",
      "10.5\n",
      "10.5\n"
     ]
    }
   ],
   "source": [
    "#aggregate functions\n",
    "a=np.array([(8,9),(10,11),(12,13)])\n",
    "print(len(a))\n",
    "print(a.min())\n",
    "print(a.max())\n",
    "print(a.sum())\n",
    "print(a.sum()/a.size)\n",
    "print(a.mean())"
   ]
  },
  {
   "cell_type": "code",
   "execution_count": 15,
   "metadata": {
    "scrolled": false
   },
   "outputs": [
    {
     "name": "stdout",
     "output_type": "stream",
     "text": [
      "[[1.         0.         1.73205081]\n",
      " [1.73205081 2.         2.23606798]]\n",
      "1.699673171197595\n",
      "[[0.               -inf 1.09861229]\n",
      " [1.09861229 1.38629436 1.60943791]]\n",
      "[[1.   0.   1.73]\n",
      " [1.73 2.   2.24]]\n"
     ]
    },
    {
     "name": "stderr",
     "output_type": "stream",
     "text": [
      "C:\\Users\\Nikita Tandel\\Anaconda3\\lib\\site-packages\\ipykernel_launcher.py:7: RuntimeWarning: divide by zero encountered in log\n",
      "  import sys\n"
     ]
    }
   ],
   "source": [
    "#math functions\n",
    "\n",
    "a=np.array([(1,0,3),(3,4,5)])\n",
    "\n",
    "print(np.sqrt(a))\n",
    "print(np.std(a))\n",
    "print(np.log(a))\n",
    "b=np.sqrt(a)\n",
    "print(b.round(2))"
   ]
  },
  {
   "cell_type": "code",
   "execution_count": 16,
   "metadata": {},
   "outputs": [
    {
     "name": "stdout",
     "output_type": "stream",
     "text": [
      "[[1 2]\n",
      " [3 4]]\n",
      "[[5 6]\n",
      " [3 4]]\n",
      "[[6 8]\n",
      " [6 8]]\n",
      "[[-4 -4]\n",
      " [ 0  0]]\n",
      "[[ 5 12]\n",
      " [ 9 16]]\n",
      "[[0.2        0.33333333]\n",
      " [1.         1.        ]]\n",
      "[[1 2]\n",
      " [0 0]]\n",
      "[[11 14]\n",
      " [27 34]]\n"
     ]
    }
   ],
   "source": [
    "#array operations\n",
    "\n",
    "x= np.array([(1,2),(3,4)])\n",
    "y= np.array([(5,6),(3,4)])\n",
    "print(x)\n",
    "print(y)\n",
    "print(x+y)\n",
    "print(x-y)\n",
    "print(x*y)\n",
    "print(x/y)\n",
    "print(x%y)\n",
    "print(x@y)\n",
    "#print(np.dot(x,y))\n",
    "#print(np.add(x,y))\n",
    "\n",
    "\n",
    "#np.add(), np.subtract(), np.multiply(), np.divide(), np.remainder()"
   ]
  },
  {
   "cell_type": "code",
   "execution_count": 17,
   "metadata": {},
   "outputs": [],
   "source": [
    "#help\n",
    "?np.mean\n",
    "#print(np.lookfor(\"mean\"))\n",
    "#help(np.zeros)"
   ]
  },
  {
   "cell_type": "code",
   "execution_count": 18,
   "metadata": {},
   "outputs": [
    {
     "name": "stdout",
     "output_type": "stream",
     "text": [
      "\n",
      "[[1 2]\n",
      " [3 4]\n",
      " [5 6]\n",
      " [3 4]]\n",
      "\n",
      "[[1 2]\n",
      " [3 4]\n",
      " [5 6]\n",
      " [3 4]]\n",
      "[[1 2 5 6]\n",
      " [3 4 3 4]]\n"
     ]
    }
   ],
   "source": [
    "#joining/stacking arrays\n",
    "\n",
    "#print(x)\n",
    "#print(y)\n",
    "print()\n",
    "d=np.concatenate((x,y),axis=0)\n",
    "print(d)\n",
    "print()\n",
    "\n",
    "print(np.vstack((x,y)))\n",
    "\n",
    "print(np.hstack((x,y)))"
   ]
  },
  {
   "cell_type": "code",
   "execution_count": 19,
   "metadata": {},
   "outputs": [
    {
     "name": "stdout",
     "output_type": "stream",
     "text": [
      "[[1 2]\n",
      " [3 4]]\n",
      "[1 2 3 4]\n",
      "[[1 2]\n",
      " [3 4]]\n"
     ]
    }
   ],
   "source": [
    "#converting array into single row\n",
    "print(x)\n",
    "z=x.ravel()\n",
    "print(z)\n",
    "print(z.reshape(2,2))"
   ]
  },
  {
   "cell_type": "code",
   "execution_count": 20,
   "metadata": {},
   "outputs": [
    {
     "name": "stdout",
     "output_type": "stream",
     "text": [
      "[ 1  2  3  3  4  5  6  7  9 10]\n",
      "[[ 1  2]\n",
      " [ 3  3]\n",
      " [ 4  5]\n",
      " [ 6  7]\n",
      " [ 9 10]]\n"
     ]
    }
   ],
   "source": [
    "#adding new elements\n",
    "x= np.array([(1,2,3),(3,4,5)])\n",
    "y= np.array([(6,7),(9,10)])\n",
    "new_array = np.append(x,y)\n",
    "print(new_array)\n",
    "new_array=np.reshape(new_array,(5,2))\n",
    "print(new_array)\n"
   ]
  },
  {
   "cell_type": "code",
   "execution_count": 21,
   "metadata": {},
   "outputs": [
    {
     "name": "stdout",
     "output_type": "stream",
     "text": [
      "[ 1  5  2  3 10  3  4 15  5]\n"
     ]
    }
   ],
   "source": [
    "#adding elements in between\n",
    "x= np.array([(1,2,3),(3,4,5)])\n",
    "new_array=np.insert(x,[1,3,5],[5,10,15])\n",
    "print(new_array)\n",
    "\n",
    "#[1,2,3,3,4,5]"
   ]
  },
  {
   "cell_type": "code",
   "execution_count": 22,
   "metadata": {},
   "outputs": [
    {
     "name": "stdout",
     "output_type": "stream",
     "text": [
      "[ 1  3 10  3  4 15  5]\n"
     ]
    }
   ],
   "source": [
    "#deleting elements from the array\n",
    "new_array=np.delete(new_array,[1,2])\n",
    "print(new_array)"
   ]
  },
  {
   "cell_type": "code",
   "execution_count": 23,
   "metadata": {},
   "outputs": [],
   "source": [
    "#updating array elements\n",
    "x= np.array([(1,2,3),(3,4,5)])\n",
    "x[0,1]=7"
   ]
  },
  {
   "cell_type": "code",
   "execution_count": 24,
   "metadata": {},
   "outputs": [
    {
     "name": "stdout",
     "output_type": "stream",
     "text": [
      "[[1 7 3]\n",
      " [3 4 5]]\n"
     ]
    }
   ],
   "source": [
    "print(x)"
   ]
  },
  {
   "cell_type": "code",
   "execution_count": 25,
   "metadata": {},
   "outputs": [
    {
     "name": "stdout",
     "output_type": "stream",
     "text": [
      "[[1 2 3]\n",
      " [4 0 6]\n",
      " [7 8 9]]\n"
     ]
    }
   ],
   "source": [
    "#creating array by reading data from file\n",
    "my_array2 = np.genfromtxt(r'C:\\Users\\Nikita Tandel\\mypython\\niks\\niks\\arraydata.txt',\n",
    "                          skip_header=1,delimiter=\",\",filling_values=0,\n",
    "                          unpack=False,dtype=np.int)\n",
    "print(my_array2)"
   ]
  },
  {
   "cell_type": "code",
   "execution_count": null,
   "metadata": {},
   "outputs": [],
   "source": []
  }
 ],
 "metadata": {
  "kernelspec": {
   "display_name": "Python 3",
   "language": "python",
   "name": "python3"
  },
  "language_info": {
   "codemirror_mode": {
    "name": "ipython",
    "version": 3
   },
   "file_extension": ".py",
   "mimetype": "text/x-python",
   "name": "python",
   "nbconvert_exporter": "python",
   "pygments_lexer": "ipython3",
   "version": "3.7.0"
  }
 },
 "nbformat": 4,
 "nbformat_minor": 2
}
